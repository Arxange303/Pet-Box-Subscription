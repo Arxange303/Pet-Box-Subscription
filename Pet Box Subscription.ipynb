{
 "cells": [
  {
   "cell_type": "code",
   "execution_count": 1,
   "id": "27a4e014",
   "metadata": {},
   "outputs": [],
   "source": [
    "import pandas as pd\n",
    "import matplotlib.pyplot as plt\n",
    "import seaborn as sns"
   ]
  },
  {
   "cell_type": "code",
   "execution_count": 2,
   "id": "aa203adb",
   "metadata": {},
   "outputs": [
    {
     "data": {
      "text/html": [
       "<div>\n",
       "<style scoped>\n",
       "    .dataframe tbody tr th:only-of-type {\n",
       "        vertical-align: middle;\n",
       "    }\n",
       "\n",
       "    .dataframe tbody tr th {\n",
       "        vertical-align: top;\n",
       "    }\n",
       "\n",
       "    .dataframe thead th {\n",
       "        text-align: right;\n",
       "    }\n",
       "</style>\n",
       "<table border=\"1\" class=\"dataframe\">\n",
       "  <thead>\n",
       "    <tr style=\"text-align: right;\">\n",
       "      <th></th>\n",
       "      <th>product_id</th>\n",
       "      <th>category</th>\n",
       "      <th>animal</th>\n",
       "      <th>size</th>\n",
       "      <th>price</th>\n",
       "      <th>sales</th>\n",
       "      <th>rating</th>\n",
       "      <th>repeat_purchase</th>\n",
       "    </tr>\n",
       "  </thead>\n",
       "  <tbody>\n",
       "    <tr>\n",
       "      <th>0</th>\n",
       "      <td>1</td>\n",
       "      <td>Food</td>\n",
       "      <td>Bird</td>\n",
       "      <td>large</td>\n",
       "      <td>51.1</td>\n",
       "      <td>1860.62</td>\n",
       "      <td>7.0</td>\n",
       "      <td>1</td>\n",
       "    </tr>\n",
       "    <tr>\n",
       "      <th>1</th>\n",
       "      <td>2</td>\n",
       "      <td>Housing</td>\n",
       "      <td>Bird</td>\n",
       "      <td>MEDIUM</td>\n",
       "      <td>35.98</td>\n",
       "      <td>963.60</td>\n",
       "      <td>6.0</td>\n",
       "      <td>0</td>\n",
       "    </tr>\n",
       "    <tr>\n",
       "      <th>2</th>\n",
       "      <td>3</td>\n",
       "      <td>Food</td>\n",
       "      <td>Dog</td>\n",
       "      <td>medium</td>\n",
       "      <td>31.23</td>\n",
       "      <td>898.30</td>\n",
       "      <td>5.0</td>\n",
       "      <td>1</td>\n",
       "    </tr>\n",
       "    <tr>\n",
       "      <th>3</th>\n",
       "      <td>4</td>\n",
       "      <td>Medicine</td>\n",
       "      <td>Cat</td>\n",
       "      <td>small</td>\n",
       "      <td>24.95</td>\n",
       "      <td>982.15</td>\n",
       "      <td>6.0</td>\n",
       "      <td>1</td>\n",
       "    </tr>\n",
       "    <tr>\n",
       "      <th>4</th>\n",
       "      <td>5</td>\n",
       "      <td>Housing</td>\n",
       "      <td>Cat</td>\n",
       "      <td>Small</td>\n",
       "      <td>26.18</td>\n",
       "      <td>832.63</td>\n",
       "      <td>7.0</td>\n",
       "      <td>1</td>\n",
       "    </tr>\n",
       "  </tbody>\n",
       "</table>\n",
       "</div>"
      ],
      "text/plain": [
       "   product_id  category animal    size  price    sales  rating  \\\n",
       "0           1      Food   Bird   large   51.1  1860.62     7.0   \n",
       "1           2   Housing   Bird  MEDIUM  35.98   963.60     6.0   \n",
       "2           3      Food    Dog  medium  31.23   898.30     5.0   \n",
       "3           4  Medicine    Cat   small  24.95   982.15     6.0   \n",
       "4           5   Housing    Cat   Small  26.18   832.63     7.0   \n",
       "\n",
       "   repeat_purchase  \n",
       "0                1  \n",
       "1                0  \n",
       "2                1  \n",
       "3                1  \n",
       "4                1  "
      ]
     },
     "execution_count": 2,
     "metadata": {},
     "output_type": "execute_result"
    }
   ],
   "source": [
    "df = pd.read_csv('pet_supplies_2212.csv')\n",
    "df.head()"
   ]
  },
  {
   "cell_type": "code",
   "execution_count": 3,
   "id": "16001461",
   "metadata": {},
   "outputs": [
    {
     "name": "stdout",
     "output_type": "stream",
     "text": [
      "<class 'pandas.core.frame.DataFrame'>\n",
      "RangeIndex: 1500 entries, 0 to 1499\n",
      "Data columns (total 8 columns):\n",
      " #   Column           Non-Null Count  Dtype  \n",
      "---  ------           --------------  -----  \n",
      " 0   product_id       1500 non-null   int64  \n",
      " 1   category         1500 non-null   object \n",
      " 2   animal           1500 non-null   object \n",
      " 3   size             1500 non-null   object \n",
      " 4   price            1500 non-null   object \n",
      " 5   sales            1500 non-null   float64\n",
      " 6   rating           1350 non-null   float64\n",
      " 7   repeat_purchase  1500 non-null   int64  \n",
      "dtypes: float64(2), int64(2), object(4)\n",
      "memory usage: 93.9+ KB\n"
     ]
    }
   ],
   "source": [
    "df.info()"
   ]
  },
  {
   "cell_type": "markdown",
   "id": "793f7a84",
   "metadata": {},
   "source": [
    "# rating"
   ]
  },
  {
   "cell_type": "code",
   "execution_count": 4,
   "id": "466985ee",
   "metadata": {},
   "outputs": [
    {
     "data": {
      "text/plain": [
       "1.0     12\n",
       "2.0     43\n",
       "3.0    190\n",
       "4.0    283\n",
       "5.0    304\n",
       "6.0    299\n",
       "7.0    143\n",
       "8.0     61\n",
       "9.0     15\n",
       "Name: rating, dtype: int64"
      ]
     },
     "execution_count": 4,
     "metadata": {},
     "output_type": "execute_result"
    }
   ],
   "source": [
    "df.rating.value_counts().sort_index()"
   ]
  },
  {
   "cell_type": "code",
   "execution_count": 5,
   "id": "30069ce0",
   "metadata": {},
   "outputs": [],
   "source": [
    "df['rating'].fillna(0, inplace=True)"
   ]
  },
  {
   "cell_type": "markdown",
   "id": "7fd374c6",
   "metadata": {},
   "source": [
    "# product_id"
   ]
  },
  {
   "cell_type": "code",
   "execution_count": 6,
   "id": "cd8a4e60",
   "metadata": {},
   "outputs": [
    {
     "data": {
      "text/plain": [
       "1       1\n",
       "5       1\n",
       "6       1\n",
       "7       1\n",
       "8       1\n",
       "       ..\n",
       "1480    1\n",
       "1479    1\n",
       "1478    1\n",
       "1493    1\n",
       "1500    1\n",
       "Name: product_id, Length: 1500, dtype: int64"
      ]
     },
     "execution_count": 6,
     "metadata": {},
     "output_type": "execute_result"
    }
   ],
   "source": [
    "df.product_id.value_counts().sort_values()"
   ]
  },
  {
   "cell_type": "markdown",
   "id": "77acc21a",
   "metadata": {},
   "source": [
    "# category"
   ]
  },
  {
   "cell_type": "code",
   "execution_count": 7,
   "id": "3eaf1a8a",
   "metadata": {},
   "outputs": [
    {
     "data": {
      "text/plain": [
       "Equipment    370\n",
       "Food         260\n",
       "Toys         255\n",
       "Medicine     237\n",
       "Housing      227\n",
       "Accessory    126\n",
       "-             25\n",
       "Name: category, dtype: int64"
      ]
     },
     "execution_count": 7,
     "metadata": {},
     "output_type": "execute_result"
    }
   ],
   "source": [
    "df.category.value_counts()"
   ]
  },
  {
   "cell_type": "code",
   "execution_count": 8,
   "id": "fa47fdaf",
   "metadata": {},
   "outputs": [
    {
     "data": {
      "text/plain": [
       "Equipment    370\n",
       "Food         260\n",
       "Toys         255\n",
       "Medicine     237\n",
       "Housing      227\n",
       "Accessory    126\n",
       "Unknown       25\n",
       "Name: category, dtype: int64"
      ]
     },
     "execution_count": 8,
     "metadata": {},
     "output_type": "execute_result"
    }
   ],
   "source": [
    "df.category.replace('-','Unknown', inplace=True)\n",
    "df.category.value_counts()"
   ]
  },
  {
   "cell_type": "markdown",
   "id": "5fe4400c",
   "metadata": {},
   "source": [
    "# animal"
   ]
  },
  {
   "cell_type": "code",
   "execution_count": 9,
   "id": "8cdb417a",
   "metadata": {},
   "outputs": [
    {
     "data": {
      "text/plain": [
       "Cat     567\n",
       "Fish    369\n",
       "Dog     367\n",
       "Bird    197\n",
       "Name: animal, dtype: int64"
      ]
     },
     "execution_count": 9,
     "metadata": {},
     "output_type": "execute_result"
    }
   ],
   "source": [
    "df.animal.value_counts()"
   ]
  },
  {
   "cell_type": "markdown",
   "id": "421eea9c",
   "metadata": {},
   "source": [
    "# size"
   ]
  },
  {
   "cell_type": "code",
   "execution_count": 10,
   "id": "30167778",
   "metadata": {},
   "outputs": [
    {
     "data": {
      "text/plain": [
       "Index(['small', 'medium', 'Small', 'SMALL', 'Medium', 'large', 'MEDIUM',\n",
       "       'Large', 'LARGE'],\n",
       "      dtype='object')"
      ]
     },
     "execution_count": 10,
     "metadata": {},
     "output_type": "execute_result"
    }
   ],
   "source": [
    "df['size'].value_counts().index"
   ]
  },
  {
   "cell_type": "code",
   "execution_count": 11,
   "id": "ac2f09ab",
   "metadata": {},
   "outputs": [
    {
     "data": {
      "text/plain": [
       "Index(['Small', 'Medium', 'Large'], dtype='object')"
      ]
     },
     "execution_count": 11,
     "metadata": {},
     "output_type": "execute_result"
    }
   ],
   "source": [
    "df['size'] = df['size'].str.capitalize()\n",
    "df['size'].value_counts().index"
   ]
  },
  {
   "cell_type": "markdown",
   "id": "0472e58b",
   "metadata": {},
   "source": [
    "# price"
   ]
  },
  {
   "cell_type": "code",
   "execution_count": 12,
   "id": "1e74f166",
   "metadata": {},
   "outputs": [
    {
     "data": {
      "text/plain": [
       "12.85         1\n",
       "12.89         1\n",
       "13.02         1\n",
       "13.13         1\n",
       "14.89         1\n",
       "           ... \n",
       "54.03         1\n",
       "54.05         1\n",
       "54.07         2\n",
       "54.16         1\n",
       "unlisted    150\n",
       "Name: price, Length: 707, dtype: int64"
      ]
     },
     "execution_count": 12,
     "metadata": {},
     "output_type": "execute_result"
    }
   ],
   "source": [
    "df.price.value_counts().sort_index()"
   ]
  },
  {
   "cell_type": "code",
   "execution_count": 13,
   "id": "9518c149",
   "metadata": {},
   "outputs": [
    {
     "data": {
      "text/plain": [
       "28.06"
      ]
     },
     "execution_count": 13,
     "metadata": {},
     "output_type": "execute_result"
    }
   ],
   "source": [
    "df['price'] = df.price.replace('unlisted',df[df.price != 'unlisted'].price.median().round(2))\n",
    "df = df.astype({'price':'float64'})\n",
    "df['price'].median()"
   ]
  },
  {
   "cell_type": "markdown",
   "id": "dd770e3b",
   "metadata": {},
   "source": [
    "# sales"
   ]
  },
  {
   "cell_type": "code",
   "execution_count": 14,
   "id": "5bc30170",
   "metadata": {
    "scrolled": true
   },
   "outputs": [
    {
     "data": {
      "text/plain": [
       "286.94     1\n",
       "288.01     1\n",
       "290.77     1\n",
       "291.19     1\n",
       "362.05     1\n",
       "          ..\n",
       "2248.04    1\n",
       "2248.63    1\n",
       "2249.40    1\n",
       "2254.99    1\n",
       "2255.96    1\n",
       "Name: sales, Length: 1476, dtype: int64"
      ]
     },
     "execution_count": 14,
     "metadata": {},
     "output_type": "execute_result"
    }
   ],
   "source": [
    "df.sales.value_counts().sort_index()"
   ]
  },
  {
   "cell_type": "code",
   "execution_count": 15,
   "id": "a62df80e",
   "metadata": {},
   "outputs": [
    {
     "data": {
      "text/plain": [
       "0"
      ]
     },
     "execution_count": 15,
     "metadata": {},
     "output_type": "execute_result"
    }
   ],
   "source": [
    "a = 0\n",
    "for i in df.sales:\n",
    "    if str(i).find('.') >0 and str(i)[::-1].find('.') > 2:\n",
    "        a += 1\n",
    "a"
   ]
  },
  {
   "cell_type": "markdown",
   "id": "161c6d4e",
   "metadata": {},
   "source": [
    "# repeat_purchase"
   ]
  },
  {
   "cell_type": "code",
   "execution_count": 16,
   "id": "1e5b0f1e",
   "metadata": {},
   "outputs": [
    {
     "data": {
      "text/plain": [
       "1    906\n",
       "0    594\n",
       "Name: repeat_purchase, dtype: int64"
      ]
     },
     "execution_count": 16,
     "metadata": {},
     "output_type": "execute_result"
    }
   ],
   "source": [
    "df.repeat_purchase.value_counts()"
   ]
  },
  {
   "cell_type": "markdown",
   "id": "1415ae99",
   "metadata": {},
   "source": [
    "#  Data Validation\n",
    "The ordinal data is 1 500 rows and 8 columns.\n",
    "\n",
    "- Product_id is unique between 1 and 1 500\n",
    "- Category has 7 categories(Housing, Food, Toys, Equipment, Medicine, Accessory and - ). I switched '-' to 'Unknown' it is 25 rows.\n",
    "- Animal has 4 categories (Dog, Cat,Fish, Bird)\n",
    "- Size had had (small, medium, Small, SMALL, Medium, large, MEDIUM,Large, LARGE). I switched in (Small, Medium,Large)\n",
    "- Price. I switched 150 'unlisted' rows to median = 28.06. Min =12.85, max = 54.16\n",
    "- Sales is ok. min = 286.94, max = 2255.96\n",
    "- Rating values was betweet 1 and 9. I switched missing values in column rating from null to 0.\n",
    "- Repeat_purchase is 1 or 0."
   ]
  },
  {
   "cell_type": "markdown",
   "id": "028f5fdf",
   "metadata": {},
   "source": [
    "# Data Discovery and Visualization"
   ]
  },
  {
   "cell_type": "markdown",
   "id": "65133672",
   "metadata": {},
   "source": [
    "which category of the variable repeat purchases has the most\n",
    "observations"
   ]
  },
  {
   "cell_type": "code",
   "execution_count": 78,
   "id": "f16c012f",
   "metadata": {
    "scrolled": true
   },
   "outputs": [
    {
     "data": {
      "text/html": [
       "<div>\n",
       "<style scoped>\n",
       "    .dataframe tbody tr th:only-of-type {\n",
       "        vertical-align: middle;\n",
       "    }\n",
       "\n",
       "    .dataframe tbody tr th {\n",
       "        vertical-align: top;\n",
       "    }\n",
       "\n",
       "    .dataframe thead th {\n",
       "        text-align: right;\n",
       "    }\n",
       "</style>\n",
       "<table border=\"1\" class=\"dataframe\">\n",
       "  <thead>\n",
       "    <tr style=\"text-align: right;\">\n",
       "      <th></th>\n",
       "      <th>category</th>\n",
       "      <th>repeat_purchase</th>\n",
       "      <th>sales</th>\n",
       "    </tr>\n",
       "  </thead>\n",
       "  <tbody>\n",
       "    <tr>\n",
       "      <th>0</th>\n",
       "      <td>Accessory</td>\n",
       "      <td>70</td>\n",
       "      <td>121273.44</td>\n",
       "    </tr>\n",
       "    <tr>\n",
       "      <th>1</th>\n",
       "      <td>Equipment</td>\n",
       "      <td>221</td>\n",
       "      <td>348875.24</td>\n",
       "    </tr>\n",
       "    <tr>\n",
       "      <th>2</th>\n",
       "      <td>Food</td>\n",
       "      <td>151</td>\n",
       "      <td>287138.16</td>\n",
       "    </tr>\n",
       "    <tr>\n",
       "      <th>3</th>\n",
       "      <td>Housing</td>\n",
       "      <td>152</td>\n",
       "      <td>175330.31</td>\n",
       "    </tr>\n",
       "    <tr>\n",
       "      <th>4</th>\n",
       "      <td>Medicine</td>\n",
       "      <td>153</td>\n",
       "      <td>214066.25</td>\n",
       "    </tr>\n",
       "    <tr>\n",
       "      <th>5</th>\n",
       "      <td>Toys</td>\n",
       "      <td>145</td>\n",
       "      <td>319897.10</td>\n",
       "    </tr>\n",
       "    <tr>\n",
       "      <th>6</th>\n",
       "      <td>Unknown</td>\n",
       "      <td>14</td>\n",
       "      <td>28316.27</td>\n",
       "    </tr>\n",
       "  </tbody>\n",
       "</table>\n",
       "</div>"
      ],
      "text/plain": [
       "    category  repeat_purchase      sales\n",
       "0  Accessory               70  121273.44\n",
       "1  Equipment              221  348875.24\n",
       "2       Food              151  287138.16\n",
       "3    Housing              152  175330.31\n",
       "4   Medicine              153  214066.25\n",
       "5       Toys              145  319897.10\n",
       "6    Unknown               14   28316.27"
      ]
     },
     "execution_count": 78,
     "metadata": {},
     "output_type": "execute_result"
    }
   ],
   "source": [
    "df2= df.groupby('category')[['repeat_purchase','sales']].sum().reset_index()\n",
    "df2"
   ]
  },
  {
   "cell_type": "markdown",
   "id": "3ffee5f1",
   "metadata": {},
   "source": [
    "Most repeated category is Equipment with 221.\n",
    "Another Food, Housing, Medicine, Toys have almost the same values around 150. We can see that people spend a lot of money to Equipment, Toys. Food is only in 3 place. "
   ]
  },
  {
   "cell_type": "code",
   "execution_count": 79,
   "id": "d3fea530",
   "metadata": {},
   "outputs": [
    {
     "data": {
      "image/png": "[encoded data removed]",
      "text/plain": [
       "<Figure size 432x288 with 1 Axes>"
      ]
     },
     "metadata": {},
     "output_type": "display_data"
    }
   ],
   "source": [
    "plt.bar(df2.category, df2.repeat_purchase)\n",
    "plt.title('Repeat purchase by category')\n",
    "plt.xlabel('Category')\n",
    "plt.xticks(rotation=90)\n",
    "plt.ylabel('Count of repeat purchase')\n",
    "plt.show()"
   ]
  },
  {
   "cell_type": "code",
   "execution_count": 80,
   "id": "a86597d5",
   "metadata": {
    "scrolled": true
   },
   "outputs": [
    {
     "data": {
      "image/png": "[encoded data removed]",
      "text/plain": [
       "<Figure size 432x288 with 1 Axes>"
      ]
     },
     "metadata": {},
     "output_type": "display_data"
    }
   ],
   "source": [
    "plt.bar(df2.category, df2.sales)\n",
    "plt.title('Repeat purchase by category by sales')\n",
    "plt.xlabel('Category')\n",
    "plt.xticks(rotation=90)\n",
    "plt.ylabel('Saels of repeat purchase')\n",
    "plt.show()"
   ]
  },
  {
   "cell_type": "markdown",
   "id": "e9c6bcd4",
   "metadata": {},
   "source": [
    "# Sales distribution"
   ]
  },
  {
   "cell_type": "markdown",
   "id": "ad0ee623",
   "metadata": {},
   "source": [
    "Shape sales distribution looks like Gaus distribution with long right tail. With othen sales in 1000. And people rarely buy more then 1500."
   ]
  },
  {
   "cell_type": "code",
   "execution_count": 181,
   "id": "0c477efe",
   "metadata": {},
   "outputs": [
    {
     "data": {
      "image/png": "[encoded data removed]",
      "text/plain": [
       "<Figure size 432x288 with 1 Axes>"
      ]
     },
     "metadata": {},
     "output_type": "display_data"
    }
   ],
   "source": [
    "sns.histplot(df['sales'], bins=10)\n",
    "plt.title('Sales distribution');"
   ]
  },
  {
   "cell_type": "markdown",
   "id": "123e2a61",
   "metadata": {},
   "source": [
    "#  Relationship between repeat purchases and sales"
   ]
  },
  {
   "cell_type": "markdown",
   "id": "6a57f8cc",
   "metadata": {},
   "source": [
    "Shape repeat and no repeat purchases look the same, but we can see that count person who returns is bigger. It is good. But the median purchase is a little smaller and also 75% quartile. That mean people return but their value purchase is smaller. \n",
    "\n",
    "Also we saw that most popular repeat category is Equipment and people spend a lot of money to Equipment, Toys. Food is in 3 place. \n",
    "\n",
    "May be company need to create a promo with Food. "
   ]
  },
  {
   "cell_type": "code",
   "execution_count": 184,
   "id": "67fc0ab5",
   "metadata": {
    "scrolled": true
   },
   "outputs": [
    {
     "data": {
      "image/png": "[encoded data removed]",
      "text/plain": [
       "<Figure size 432x288 with 1 Axes>"
      ]
     },
     "metadata": {},
     "output_type": "display_data"
    }
   ],
   "source": [
    "plt.hist(df[df['repeat_purchase'] == 0]['sales'], alpha = 0.5, label='0')\n",
    "plt.hist(df[df['repeat_purchase'] == 1]['sales'], alpha = 0.5, label='1')\n",
    "plt.legend()\n",
    "plt.title('Sales distribution  by purchase')\n",
    "plt.xlabel('Sales')\n",
    "plt.ylabel('Count');"
   ]
  },
  {
   "cell_type": "code",
   "execution_count": 74,
   "id": "585d5121",
   "metadata": {},
   "outputs": [
    {
     "name": "stdout",
     "output_type": "stream",
     "text": [
      "median purchase non repeat:  1030.185\n",
      "median purchase repeat:  975.7683995584988\n"
     ]
    }
   ],
   "source": [
    "print('median purchase non repeat: ', df[df['repeat_purchase'] == 0]['sales'].median())\n",
    "print('median purchase repeat: ', df[df['repeat_purchase'] == 1]['sales'].mean())"
   ]
  },
  {
   "cell_type": "code",
   "execution_count": 24,
   "id": "a21ad3de",
   "metadata": {
    "scrolled": true
   },
   "outputs": [
    {
     "data": {
      "image/png": "[encoded data removed]",
      "text/plain": [
       "<Figure size 432x288 with 1 Axes>"
      ]
     },
     "metadata": {},
     "output_type": "display_data"
    }
   ],
   "source": [
    "sns.boxplot(data = df, x='repeat_purchase', y='sales')\n",
    "plt.title('Distribution Sales by repeat purchase');"
   ]
  },
  {
   "cell_type": "markdown",
   "id": "7cc15690",
   "metadata": {},
   "source": [
    "# Look closely to Food"
   ]
  },
  {
   "cell_type": "markdown",
   "id": "e746463e",
   "metadata": {},
   "source": [
    "People basically think that food is not good by Rating. But it has a very large gap between 25% and 75% quartile. It means not all food isn't good.\n",
    "\n",
    "Customers don't like food for bird and fish . Let's look at counting sales.\n",
    "\n",
    "In the food return rating, people do not like food for birds and fish. I recommend asking people why it's not popular. \n",
    "\n",
    "But cat food has a good rating and there are more people who buy it for the second time than those who buy it for the first time. It would be great to create an advertisement for it.  "
   ]
  },
  {
   "cell_type": "code",
   "execution_count": 185,
   "id": "a861b2c4",
   "metadata": {
    "scrolled": true
   },
   "outputs": [
    {
     "data": {
      "image/png": "[encoded data removed]",
      "text/plain": [
       "<Figure size 432x288 with 1 Axes>"
      ]
     },
     "metadata": {},
     "output_type": "display_data"
    }
   ],
   "source": [
    "sns.boxplot(data = df, x='category', y='rating')\n",
    "plt.title('Rating distribution  by Category')\n",
    "plt.xticks(rotation=90);"
   ]
  },
  {
   "cell_type": "code",
   "execution_count": 186,
   "id": "6aaf3bdf",
   "metadata": {
    "scrolled": true
   },
   "outputs": [
    {
     "data": {
      "image/png": "[encoded data removed]",
      "text/plain": [
       "<Figure size 432x288 with 1 Axes>"
      ]
     },
     "metadata": {},
     "output_type": "display_data"
    }
   ],
   "source": [
    "sns.boxplot(data = df[(df['repeat_purchase'] == 1) & (df['category'] == 'Food')], x='animal', y='rating')\n",
    "plt.title('rating distribution  by Food from returning people ')\n",
    "plt.xticks(rotation=90);"
   ]
  },
  {
   "cell_type": "code",
   "execution_count": 188,
   "id": "b6602a71",
   "metadata": {},
   "outputs": [
    {
     "data": {
      "image/png": "[encoded data removed]",
      "text/plain": [
       "<Figure size 432x288 with 1 Axes>"
      ]
     },
     "metadata": {},
     "output_type": "display_data"
    }
   ],
   "source": [
    "df3= pd.pivot_table(df[(df['category'] == 'Food')],columns='repeat_purchase', values='sales', index='animal', aggfunc='count')\n",
    "df3\n",
    "plt.bar(df3.index, df3[0], alpha=0.5, label='0')\n",
    "plt.bar(df3.index, df3[1], alpha=0.5, label='1')\n",
    "plt.title('Count Sales for Food by animal and returning people ')\n",
    "plt.ylabel('Count')\n",
    "plt.xlabel('Category')\n",
    "plt.legend()\n",
    "plt.xticks(rotation=90);"
   ]
  },
  {
   "cell_type": "code",
   "execution_count": 21,
   "id": "4e3c44fa",
   "metadata": {},
   "outputs": [
    {
     "data": {
      "image/png": "[encoded data removed]",
      "text/plain": [
       "<Figure size 432x288 with 1 Axes>"
      ]
     },
     "metadata": {},
     "output_type": "display_data"
    }
   ],
   "source": [
    "import numpy as np\n",
    "plt.style.use('ggplot')\n",
    "x = np.linspace(-1 , 1, 100)\n",
    "y = (1 - x**2)**0.5 + (x**2)**(1/3)\n",
    "y1 = -(1 - x**2)**0.5 + (x**2)**(1/3)\n",
    "plt.plot(x, y,color='orange')\n",
    "plt.plot(x, y1,color='orange')\n",
    "plt.title('Anna + Nick')\n",
    "plt.fill_between(x, y, y1, facecolor='red')\n",
    "plt.show()"
   ]
  },
  {
   "cell_type": "code",
   "execution_count": null,
   "id": "31bc2386",
   "metadata": {},
   "outputs": [],
   "source": []
  },
  {
   "cell_type": "code",
   "execution_count": null,
   "id": "4a5c1ca7",
   "metadata": {},
   "outputs": [],
   "source": []
  }
 ],
 "metadata": {
  "kernelspec": {
   "display_name": "Python 3",
   "language": "python",
   "name": "python3"
  },
  "language_info": {
   "codemirror_mode": {
    "name": "ipython",
    "version": 3
   },
   "file_extension": ".py",
   "mimetype": "text/x-python",
   "name": "python",
   "nbconvert_exporter": "python",
   "pygments_lexer": "ipython3",
   "version": "3.8.8"
  }
 },
 "nbformat": 4,
 "nbformat_minor": 5
}
